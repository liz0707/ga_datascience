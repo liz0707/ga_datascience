{
 "cells": [
  {
   "cell_type": "code",
   "execution_count": 1,
   "metadata": {},
   "outputs": [
    {
     "name": "stderr",
     "output_type": "stream",
     "text": [
      "C:\\Users\\elizabeth.xu\\AppData\\Local\\Continuum\\Anaconda2\\lib\\site-packages\\gensim\\utils.py:865: UserWarning: detected Windows; aliasing chunkize to chunkize_serial\n",
      "  warnings.warn(\"detected Windows; aliasing chunkize to chunkize_serial\")\n"
     ]
    }
   ],
   "source": [
    "# Unicode Handling\n",
    "from __future__ import unicode_literals\n",
    "import codecs\n",
    "\n",
    "import numpy as np\n",
    "import gensim\n",
    "\n",
    "# spacy is used for pre-processing and traditional NLP\n",
    "import spacy\n",
    "from spacy.en import English\n",
    "\n",
    "# Gensim is used for LDA and word2vec\n",
    "from gensim.models.word2vec import Word2Vec"
   ]
  },
  {
   "cell_type": "code",
   "execution_count": 30,
   "metadata": {
    "collapsed": true
   },
   "outputs": [],
   "source": [
    "# Loading the tweet data\n",
    "filename = '../dataset/captured-tweets.txt'\n",
    "tweets = []\n",
    "for tweet in codecs.open(filename, 'r', encoding=\"utf-8\"):\n",
    "    tweets.append(tweet)\n",
    "# Setting up spacy\n",
    "nlp_toolkit = English()"
   ]
  },
  {
   "cell_type": "markdown",
   "metadata": {},
   "source": [
    "## Exercise 1a\n",
    "\n",
    "Write a function that can take a take a sentence parsed by `spacy` and identify if it mentions a company named 'Google'. Remember, `spacy` can find entities and codes them as `ORG` if they are a company. Look at the slides for class 13 if you need a hint:\n",
    "\n",
    "### Bonus (1b)\n",
    "\n",
    "Parameterize the company name so that the function works for any company."
   ]
  },
  {
   "cell_type": "code",
   "execution_count": 34,
   "metadata": {},
   "outputs": [
    {
     "name": "stdout",
     "output_type": "stream",
     "text": [
      "RT @ShowerThoughtts: Apple has \"air\", Amazon has \"Fire\", Google has \"earth\", why doesn't Microsoft have \"water\"?\n",
      "\n",
      "https://t.co/wiRZHnHUYV RT ShowerThoughtts: Apple has \"air\", Amazon has \"Fire\", Google has \"earth\", why doesn't M… https://t.co/O69Q8NpBmK\n",
      "\n",
      "I just received a reward: An Apple a Day https://t.co/D5BMjL5RIs #Android #Androidgames #Gameinsight\n",
      "\n",
      "I just received a reward: An Apple a Day https://t.co/D5BMjL5RIs #Android #Gameinsight #Androidgames\n",
      "\n",
      "I just received a reward: An Apple a Day https://t.co/agE74kf3tR #Android #Gameinsight #Androidgames\n",
      "\n",
      "#SteveJobsDoc people realize most large companies avoid taxes the same way as Apple one of many! Facebook, Google, Yahoo, Microsoft, etc...\n",
      "\n",
      "Applebee's server saves the day after family accidentally leaves $32K in booth ... - https://t.co/YzMQ8mMCK3 https://t.co/y3kD3wexGP\n",
      "\n",
      "RT @TheSportyGiirl: #SteveJobsDoc people realize most large companies avoid taxes the same way as Apple one of many! Facebook, Google, Yaho…\n",
      "\n",
      "RT @ShowerThoughtts: Apple has \"air\", Amazon has \"Fire\", Google has \"earth\", why doesn't Microsoft have \"water\"?\n",
      "\n",
      "What are Apple, Google, Samsung and Intel doing in Health Care? | https://t.co/xAJQ6hcNBk #DigitalHealth\n",
      "\n",
      "Apple Music better homie https://t.co/1RVEJ9egXj\n",
      "\n",
      "Apple Cuts iPhone 6s &amp; 6s Plus Pricing in India\n",
      "\n",
      "@ZaidJilani Is there any app by Google/Apple/Face Book  for Lawyers $10/hr\n",
      "\n",
      "RT @ChoicesYouHave: Apple or Microsoft? https://t.co/W3Db9iiZ8J\n",
      "\n",
      "Apple iPad Wi-Fi 4G 64GB Black- Verizon MC756LL/A - Bid Now! Only $221.0 https://t.co/uYOYTviyd5 https://t.co/sJTyjH6r1K\n",
      "\n",
      "Apple iPad Mini with WiFi + Verizon 4G 16GB Space Gray - MF450LL/A Brand New - Bid Now! On… https://t.co/VRS7tpZAuk https://t.co/G4B9cjIwc6\n",
      "\n",
      "Apple iPhone 5s - 16GB - Space Gray (Verizon) Smartphone https://t.co/6Se9IQF5jf https://t.co/pXQvNXWiLm\n",
      "\n",
      "Apple iPhone 5 - 16GB - Black &amp; Slate (Verizon) Smartphone: $118.00 (1 Bid) End Date: Monday… https://t.co/v7Qz1fZuuj\n",
      "\n",
      "Apple iPhone 5s - 32GB - Space Gray (Verizon) Smartphone https://t.co/M7NpGxQQjh https://t.co/7tnpTiUXwr\n",
      "\n",
      "Apple iPhone 6 - 64GB - Space Gray (Verizon) Smartphone https://t.co/AEbnwVapw3 https://t.co/VyqaRAgm05\n",
      "\n",
      "Apple iPhone 5c - 16GB - Blue (Verizon) Smartphone https://t.co/SZF1aRNDbp https://t.co/yFJPLmQp6A\n",
      "\n",
      "#iphone #apple Deals https://t.co/aPRG5Vigdw #9568 Apple iPhone 5s Smartphone (AT&amp;T Sprint Verizon T-Mobile Unlock… https://t.co/y0tQTUIYNm\n",
      "\n",
      "#iphone #apple Deals https://t.co/mcnNioxMOz #8439 Apple iPhone 6 (Factory Unlocked) AT&amp;T T-Mobile Verizon Space G… https://t.co/hOzA8Y1jfH\n",
      "\n",
      "#iphone #apple Deals https://t.co/si3QzPHOBp #0502 Apple iPhone 6 - 16GB - Verizon (Factory Unlocked) Smartphone https://t.co/SjU6WBnf7o\n",
      "\n",
      "Apple or Microsoft: Which Was the Better Tech Performer? - https://t.co/EtbZBdXySM https://t.co/k2I7V8rsFp\n",
      "\n"
     ]
    }
   ],
   "source": [
    "#def mentions_company(parsed):\n",
    " #   parsed = nlp_toolkit(parsed)\n",
    "  #  # Return True if the sentence contains an organization and that organization is Google\n",
    "   # for entity in parsed.ents:\n",
    "    #    try:\n",
    "     #       if \"google\" in entity.text.lower():\n",
    "      #          return 1\n",
    "       #     return False\n",
    "\n",
    "# 1b\n",
    "\n",
    "\n",
    "def mentions_company(parsed, search_term='google'):\n",
    "    parsed = nlp_toolkit(parsed)\n",
    "    for entity in parsed.ents:\n",
    "        if search_term.lower() in entity.text.lower():\n",
    "            return True\n",
    "        else:\n",
    "            return False\n",
    "\n",
    "    \n",
    "for tweet in tweets:\n",
    "    if mentions_company(tweet, 'apple'):\n",
    "        print tweet\n",
    "   \n",
    "relevant_tweets = []\n",
    "for tweet in tweets:\n",
    "    if mentions_company(tweet):\n",
    "        relevant_tweets.append(tweet)"
   ]
  },
  {
   "cell_type": "markdown",
   "metadata": {},
   "source": [
    "## Exercise 1c\n",
    "\n",
    "Write a function that can take a sentence parsed by `spacy` \n",
    "and return the verbs of the sentence (preferably lemmatized)"
   ]
  },
  {
   "cell_type": "code",
   "execution_count": 38,
   "metadata": {},
   "outputs": [],
   "source": [
    "def get_actions(parsed):\n",
    "    actions = []\n",
    "    parsed = nlp_toolkit(parsed)\n",
    "    for(i, word) in enumerate(parsed):\n",
    "        if word.lemma_ == \"announce\" or word.lemma_ == \"release\":\n",
    "            return True\n",
    "        return False\n",
    "\n",
    "for tweet in relevant_tweets:\n",
    "    if get_actions(tweet):\n",
    "        print tweet"
   ]
  },
  {
   "cell_type": "markdown",
   "metadata": {},
   "source": [
    "## Exercise 1d\n",
    "For each tweet, parse it using spacy and print it out if the tweet has 'release' or 'announce' as a verb. You'll need to use your `mentions_company` and `get_actions` functions."
   ]
  },
  {
   "cell_type": "code",
   "execution_count": null,
   "metadata": {},
   "outputs": [],
   "source": [
    "for tweet in tweets:\n",
    "    parsed = nlp_toolkit(tweet)\n",
    "    pass\n",
    "\n",
    "#'GPE'"
   ]
  },
  {
   "cell_type": "markdown",
   "metadata": {
    "collapsed": true
   },
   "source": [
    "## Exercise 1e\n",
    "Write a function that identifies countries - HINT: the entity label for countries is GPE (or GeoPolitical Entity)\n",
    "\n"
   ]
  },
  {
   "cell_type": "code",
   "execution_count": 39,
   "metadata": {},
   "outputs": [
    {
     "name": "stdout",
     "output_type": "stream",
     "text": [
      "Someone asked on my YTube, what happened to my face from Japan in Japanese text I had to Google that shyt. I said, I was born that way.\n",
      "\n"
     ]
    }
   ],
   "source": [
    "def mentions_country(parsed, country):\n",
    "    parsed = nlp_toolkit(parsed)\n",
    "    for word in parsed: \n",
    "        if word.text == country and word.ent_type_ == \"GPE\":\n",
    "            return True\n",
    "    return False \n",
    "\n",
    "for tweet in tweets:\n",
    "    if mentions_country(tweet, 'Japan'):\n",
    "        print tweet"
   ]
  },
  {
   "cell_type": "markdown",
   "metadata": {},
   "source": [
    "## Exercise 1f\n",
    "\n",
    "Re-run (d) to find country tweets that discuss 'Iran' announcing or releasing.\n"
   ]
  },
  {
   "cell_type": "code",
   "execution_count": null,
   "metadata": {},
   "outputs": [],
   "source": [
    "for tweet in tweets:\n",
    "    parsed = nlp_toolkit(tweet)\n",
    "    pass"
   ]
  },
  {
   "cell_type": "markdown",
   "metadata": {},
   "source": [
    "## Exercise 2\n",
    "Build a `word2vec` model of the tweets we have collected using `gensim`.\n",
    "\n",
    "### Exercise 2a:\n",
    "First take the collection of tweets and tokenize them using spacy.\n",
    "\n",
    "* Think about how this should be done. \n",
    "* Should you only use upper-case or lower-case? \n",
    "* Should you remove punctuations or symbols? "
   ]
  },
  {
   "cell_type": "code",
   "execution_count": null,
   "metadata": {},
   "outputs": [],
   "source": [
    "text_split = [[x.text if x.pos != spacy.parts_of_speech.VERB else x.lemma_ \n",
    "                for x in nlp_toolkit(t)] for t in tweets]\n"
   ]
  },
  {
   "cell_type": "markdown",
   "metadata": {},
   "source": [
    "### Exercise 2b:\n",
    "Build a `word2vec` model.\n",
    "Test the window size as well - this is how many surrounding words need to be used to model a word. What do you think is appropriate for Twitter? "
   ]
  },
  {
   "cell_type": "code",
   "execution_count": null,
   "metadata": {
    "collapsed": true
   },
   "outputs": [],
   "source": [
    "model = Word2Vec(text_split, size=100, window=4, min_count=5, workers=4)"
   ]
  },
  {
   "cell_type": "markdown",
   "metadata": {},
   "source": [
    "### Exercise 2c:\n",
    "Test your word2vec model with a few similarity functions. \n",
    "* Find words similar to 'Syria'.\n",
    "* Find words similar to 'war'.\n",
    "* Find words similar to \"Iran\".\n",
    "* Find words similar to 'Verizon'. \n",
    "\n"
   ]
  },
  {
   "cell_type": "code",
   "execution_count": null,
   "metadata": {},
   "outputs": [],
   "source": [
    "model.most_similar(positive=['Syria'])"
   ]
  },
  {
   "cell_type": "markdown",
   "metadata": {},
   "source": [
    "# Exercise 2d\n",
    "\n",
    "Adjust the choices / parameters in (b) and (c) as necessary.\n"
   ]
  },
  {
   "cell_type": "code",
   "execution_count": null,
   "metadata": {
    "collapsed": true
   },
   "outputs": [],
   "source": []
  },
  {
   "cell_type": "markdown",
   "metadata": {},
   "source": [
    "## Exercise 3\n",
    "\n",
    "Filter tweets to those that mention 'Iran' or similar entities and 'war' or similar entities.\n",
    "* Do this using just spacy.\n",
    "* Do this using word2vec similarity scores."
   ]
  },
  {
   "cell_type": "code",
   "execution_count": null,
   "metadata": {
    "collapsed": true
   },
   "outputs": [],
   "source": [
    "# Using spacy\n",
    "for tweet in tweets:\n",
    "    parsed = nlp_toolkit(tweet)\n",
    "    pass"
   ]
  },
  {
   "cell_type": "code",
   "execution_count": null,
   "metadata": {},
   "outputs": [],
   "source": [
    "# Using word2vec similarity scores\n",
    "for tweet in tweets[:200]:\n",
    "    parsed = nlp_toolkit(tweet)\n",
    "    pass\n"
   ]
  },
  {
   "cell_type": "code",
   "execution_count": null,
   "metadata": {
    "collapsed": true
   },
   "outputs": [],
   "source": []
  }
 ],
 "metadata": {
  "kernelspec": {
   "display_name": "Python 2",
   "language": "python",
   "name": "python2"
  },
  "language_info": {
   "codemirror_mode": {
    "name": "ipython",
    "version": 2
   },
   "file_extension": ".py",
   "mimetype": "text/x-python",
   "name": "python",
   "nbconvert_exporter": "python",
   "pygments_lexer": "ipython2",
   "version": "2.7.13"
  }
 },
 "nbformat": 4,
 "nbformat_minor": 1
}
