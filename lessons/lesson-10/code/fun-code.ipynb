{
 "cells": [
  {
   "cell_type": "markdown",
   "metadata": {},
   "source": [
    "# Can you make the image smile again?"
   ]
  },
  {
   "cell_type": "code",
   "execution_count": 2,
   "metadata": {
    "collapsed": true
   },
   "outputs": [],
   "source": [
    "import numpy as np\n",
    "import pandas as pd\n",
    "import pylab as pl"
   ]
  },
  {
   "cell_type": "code",
   "execution_count": 15,
   "metadata": {},
   "outputs": [],
   "source": [
    "full_df = pd.read_csv('./dataset/full.csv')\n",
    "train_df = pd.read_csv('./dataset/train.csv')\n",
    "test_df = pd.read_csv('./dataset/test.csv')"
   ]
  },
  {
   "cell_type": "markdown",
   "metadata": {},
   "source": [
    "# Here is the original image"
   ]
  },
  {
   "cell_type": "code",
   "execution_count": 5,
   "metadata": {},
   "outputs": [
    {
     "data": {
      "image/png": "[encoded data removed]",
      "text/plain": [
       "<matplotlib.figure.Figure at 0x1182280d0>"
      ]
     },
     "metadata": {},
     "output_type": "display_data"
    }
   ],
   "source": [
    "for color in ['yellow', 'black']:\n",
    "    pl.scatter(full_df[full_df.color==color].x, full_df[full_df.color==color].y, c=color, marker=',', edgecolors='none')\n",
    "pl.show()"
   ]
  },
  {
   "cell_type": "markdown",
   "metadata": {},
   "source": [
    "# But I've lost some data from the image :("
   ]
  },
  {
   "cell_type": "code",
   "execution_count": 4,
   "metadata": {},
   "outputs": [
    {
     "data": {
      "image/png": "[encoded data removed]",
      "text/plain": [
       "<matplotlib.figure.Figure at 0x117fa3cd0>"
      ]
     },
     "metadata": {},
     "output_type": "display_data"
    }
   ],
   "source": [
    "for color in ['yellow', 'black']:\n",
    "    pl.scatter(train_df[train_df.color==color].x, train_df[train_df.color==color].y, c=color, marker=',', edgecolors='none')\n",
    "pl.show()"
   ]
  },
  {
   "cell_type": "markdown",
   "metadata": {},
   "source": [
    "# Can you help me recover my original image?"
   ]
  },
  {
   "cell_type": "code",
   "execution_count": 12,
   "metadata": {},
   "outputs": [
    {
     "name": "stdout",
     "output_type": "stream",
     "text": [
      "yellow    3917\n",
      "black     1083\n",
      "Name: color, dtype: int64\n"
     ]
    }
   ],
   "source": [
    "# hint: what kind of problem is this? regression/classification/clustering\n",
    "print train_df.color.value_counts()\n"
   ]
  },
  {
   "cell_type": "code",
   "execution_count": 25,
   "metadata": {},
   "outputs": [],
   "source": [
    "# convert y values to numerical\n",
    "my_map = {\"yellow\":0, \"black\": 1}\n",
    "train_df['num_color'] = train_df['color'].map(my_map)"
   ]
  },
  {
   "cell_type": "code",
   "execution_count": 26,
   "metadata": {},
   "outputs": [],
   "source": [
    "from sklearn.neighbors import KNeighborsClassifier\n",
    "\n",
    "my_model = KNeighborsClassifier(n_neighbors = 8, weights = 'distance')"
   ]
  },
  {
   "cell_type": "code",
   "execution_count": 27,
   "metadata": {},
   "outputs": [
    {
     "data": {
      "text/plain": [
       "KNeighborsClassifier(algorithm='auto', leaf_size=30, metric='minkowski',\n",
       "           metric_params=None, n_jobs=1, n_neighbors=8, p=2,\n",
       "           weights='distance')"
      ]
     },
     "execution_count": 27,
     "metadata": {},
     "output_type": "execute_result"
    }
   ],
   "source": [
    "X = train_df[['x','y']] # need it as df\n",
    "y = train_df['num_color'] # need it as vector\n",
    "\n",
    "my_model.fit(X,y)"
   ]
  },
  {
   "cell_type": "code",
   "execution_count": 28,
   "metadata": {},
   "outputs": [
    {
     "data": {
      "text/plain": [
       "1.0"
      ]
     },
     "execution_count": 28,
     "metadata": {},
     "output_type": "execute_result"
    }
   ],
   "source": [
    "# find accuracy of prediction\n",
    "my_model.score(X,y)"
   ]
  },
  {
   "cell_type": "code",
   "execution_count": 33,
   "metadata": {},
   "outputs": [
    {
     "name": "stdout",
     "output_type": "stream",
     "text": [
      "1.0\n"
     ]
    },
    {
     "data": {
      "image/png": "[encoded data removed]",
      "text/plain": [
       "<matplotlib.figure.Figure at 0x1137de910>"
      ]
     },
     "metadata": {},
     "output_type": "display_data"
    }
   ],
   "source": [
    "%matplotlib inline\n",
    "import matplotlib.pyplot as plt\n",
    "\n",
    "from sklearn.metrics import roc_curve, roc_auc_score\n",
    "\n",
    "probas =  my_model.predict_proba(X)\n",
    "plt.plot(roc_curve(train_df[['num_color']],probas[:,1])[0], roc_curve(train_df[['num_color']],probas[:,1])[1])\n",
    "print roc_auc_score(train_df['num_color'], probas[:,1])"
   ]
  },
  {
   "cell_type": "code",
   "execution_count": 16,
   "metadata": {
    "collapsed": true
   },
   "outputs": [],
   "source": [
    "# predict X of test_df\n",
    "\n",
    "X_predict = test_df[['x', 'y']]\n",
    "num_color_predict = my_model.predict(X_predict)"
   ]
  },
  {
   "cell_type": "code",
   "execution_count": 30,
   "metadata": {
    "collapsed": true
   },
   "outputs": [],
   "source": [
    "test_df['num_color'] = num_color_predict\n",
    "test_df['color'] = test_df.num_color.map({0:\"yellow\", 1:\"black\"})"
   ]
  },
  {
   "cell_type": "code",
   "execution_count": 32,
   "metadata": {},
   "outputs": [
    {
     "data": {
      "image/png": "[encoded data removed]",
      "text/plain": [
       "<matplotlib.figure.Figure at 0x10fe3e550>"
      ]
     },
     "metadata": {},
     "output_type": "display_data"
    }
   ],
   "source": [
    "for color in ['yellow', 'black']:\n",
    "    pl.scatter(train_df[train_df.color==color].x, train_df[train_df.color==color].y, c=color, marker=',', edgecolors='none')\n",
    "\n",
    "for color in ['yellow', 'black']:\n",
    "    pl.scatter(test_df[test_df.color==color].x, test_df[test_df.color==color].y, c=color, marker=',', edgecolors='none')\n",
    "pl.show()"
   ]
  },
  {
   "cell_type": "code",
   "execution_count": 37,
   "metadata": {},
   "outputs": [],
   "source": []
  },
  {
   "cell_type": "code",
   "execution_count": 55,
   "metadata": {},
   "outputs": [
    {
     "name": "stdout",
     "output_type": "stream",
     "text": [
      "~~~~ CROSS VALIDATION each fold ~~~~\n",
      "Model 1\n",
      "ROC 0.998740824393\n",
      "acc_scores 0.981\n",
      "Model 2\n",
      "ROC 0.999319552312\n",
      "acc_scores 0.989\n",
      "Model 3\n",
      "ROC 0.999095522533\n",
      "acc_scores 0.986\n",
      "Model 4\n",
      "ROC 0.999258899002\n",
      "acc_scores 0.986\n",
      "Model 5\n",
      "ROC 0.999002914557\n",
      "acc_scores 0.984\n",
      "~~~~ SUMMARY OF CROSS VALIDATION ~~~~\n",
      "Mean of ROC for all folds: 0.99908354256\n",
      "Mean of acc_scores for all folds: 0.9852\n"
     ]
    }
   ],
   "source": [
    "# cross validation model\n",
    "from sklearn import cross_validation\n",
    "import numpy as np\n",
    "\n",
    "kf = cross_validation.KFold(len(train_df), n_folds = 5, shuffle = True)\n",
    "roc = []\n",
    "n = 0\n",
    "acc_scores = []\n",
    "\n",
    "\n",
    "print \"~~~~ CROSS VALIDATION each fold ~~~~\"\n",
    "for train_index, test_index in kf:\n",
    "    lm = KNeighborsClassifier(n_neighbors = 8, weights = 'distance').fit(X.iloc[train_index], y.iloc[train_index])\n",
    "    probas = lm.predict_proba(X.iloc[test_index]) ## you want to predict on test\n",
    "    roc.append(roc_auc_score(train_df['num_color'].iloc[test_index], probas[:,1]))\n",
    "    acc_scores.append(lm.score(X.iloc[test_index], y.iloc[test_index]))\n",
    "    n+=1\n",
    "    print 'Model', n\n",
    "    print 'ROC', roc[n-1]\n",
    "    print 'acc_scores', acc_scores[n-1]\n",
    "\n",
    "\n",
    "print \"~~~~ SUMMARY OF CROSS VALIDATION ~~~~\"\n",
    "print 'Mean of ROC for all folds:', np.mean(roc)\n",
    "print 'Mean of acc_scores for all folds:', np.mean(acc_scores)"
   ]
  },
  {
   "cell_type": "code",
   "execution_count": null,
   "metadata": {
    "collapsed": true
   },
   "outputs": [],
   "source": []
  }
 ],
 "metadata": {
  "anaconda-cloud": {},
  "kernelspec": {
   "display_name": "Python 2",
   "language": "python",
   "name": "python2"
  },
  "language_info": {
   "codemirror_mode": {
    "name": "ipython",
    "version": 2
   },
   "file_extension": ".py",
   "mimetype": "text/x-python",
   "name": "python",
   "nbconvert_exporter": "python",
   "pygments_lexer": "ipython2",
   "version": "2.7.13"
  }
 },
 "nbformat": 4,
 "nbformat_minor": 1
}
