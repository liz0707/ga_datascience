{
 "cells": [
  {
   "cell_type": "markdown",
   "metadata": {},
   "source": [
    "# Project 3\n",
    "\n",
    "In this project, you will perform a logistic regression on the admissions data we've been working with in projects 1 and 2."
   ]
  },
  {
   "cell_type": "code",
   "execution_count": 1,
   "metadata": {},
   "outputs": [
    {
     "name": "stderr",
     "output_type": "stream",
     "text": [
      "C:\\Users\\elizabeth.xu\\AppData\\Local\\Continuum\\Anaconda2\\lib\\site-packages\\statsmodels\\compat\\pandas.py:56: FutureWarning: The pandas.core.datetools module is deprecated and will be removed in a future version. Please use the pandas.tseries module instead.\n",
      "  from pandas.core import datetools\n"
     ]
    }
   ],
   "source": [
    "%matplotlib inline\n",
    "import matplotlib.pyplot as plt\n",
    "import pandas as pd\n",
    "import statsmodels.api as sm\n",
    "import pylab as pl\n",
    "import numpy as np\n"
   ]
  },
  {
   "cell_type": "code",
   "execution_count": 2,
   "metadata": {},
   "outputs": [
    {
     "name": "stdout",
     "output_type": "stream",
     "text": [
      "   admit    gre   gpa  prestige\n",
      "0      0  380.0  3.61       3.0\n",
      "1      1  660.0  3.67       3.0\n",
      "2      1  800.0  4.00       1.0\n",
      "3      1  640.0  3.19       4.0\n",
      "4      0  520.0  2.93       4.0\n"
     ]
    }
   ],
   "source": [
    "df_raw = pd.read_csv(\"../assets/admissions.csv\")\n",
    "df = df_raw.dropna() \n",
    "print df.head()"
   ]
  },
  {
   "cell_type": "markdown",
   "metadata": {},
   "source": [
    "## Part 1. Frequency Tables\n",
    "\n",
    "#### 1. Let's create a frequency table of our variables"
   ]
  },
  {
   "cell_type": "code",
   "execution_count": 3,
   "metadata": {},
   "outputs": [
    {
     "data": {
      "text/html": [
       "<div>\n",
       "<style>\n",
       "    .dataframe thead tr:only-child th {\n",
       "        text-align: right;\n",
       "    }\n",
       "\n",
       "    .dataframe thead th {\n",
       "        text-align: left;\n",
       "    }\n",
       "\n",
       "    .dataframe tbody tr th {\n",
       "        vertical-align: top;\n",
       "    }\n",
       "</style>\n",
       "<table border=\"1\" class=\"dataframe\">\n",
       "  <thead>\n",
       "    <tr style=\"text-align: right;\">\n",
       "      <th>prestige</th>\n",
       "      <th>1.0</th>\n",
       "      <th>2.0</th>\n",
       "      <th>3.0</th>\n",
       "      <th>4.0</th>\n",
       "    </tr>\n",
       "    <tr>\n",
       "      <th>admit</th>\n",
       "      <th></th>\n",
       "      <th></th>\n",
       "      <th></th>\n",
       "      <th></th>\n",
       "    </tr>\n",
       "  </thead>\n",
       "  <tbody>\n",
       "    <tr>\n",
       "      <th>0</th>\n",
       "      <td>28</td>\n",
       "      <td>95</td>\n",
       "      <td>93</td>\n",
       "      <td>55</td>\n",
       "    </tr>\n",
       "    <tr>\n",
       "      <th>1</th>\n",
       "      <td>33</td>\n",
       "      <td>53</td>\n",
       "      <td>28</td>\n",
       "      <td>12</td>\n",
       "    </tr>\n",
       "  </tbody>\n",
       "</table>\n",
       "</div>"
      ],
      "text/plain": [
       "prestige  1.0  2.0  3.0  4.0\n",
       "admit                       \n",
       "0          28   95   93   55\n",
       "1          33   53   28   12"
      ]
     },
     "execution_count": 3,
     "metadata": {},
     "output_type": "execute_result"
    }
   ],
   "source": [
    "# frequency table for prestige and whether or not someone was admitted\n",
    "\n",
    "pd.crosstab(df['admit'], df['prestige'], rownames=['admit'])"
   ]
  },
  {
   "cell_type": "markdown",
   "metadata": {},
   "source": [
    "## Part 2. Return of dummy variables"
   ]
  },
  {
   "cell_type": "markdown",
   "metadata": {},
   "source": [
    "#### 2.1 Create class or dummy variables for prestige "
   ]
  },
  {
   "cell_type": "code",
   "execution_count": 4,
   "metadata": {},
   "outputs": [
    {
     "name": "stdout",
     "output_type": "stream",
     "text": [
      "     admit    gre   gpa  prestige  1.0  2.0  3.0  4.0\n",
      "0        0  380.0  3.61       3.0    0    0    1    0\n",
      "1        1  660.0  3.67       3.0    0    0    1    0\n",
      "2        1  800.0  4.00       1.0    1    0    0    0\n",
      "3        1  640.0  3.19       4.0    0    0    0    1\n",
      "4        0  520.0  2.93       4.0    0    0    0    1\n",
      "5        1  760.0  3.00       2.0    0    1    0    0\n",
      "6        1  560.0  2.98       1.0    1    0    0    0\n",
      "7        0  400.0  3.08       2.0    0    1    0    0\n",
      "8        1  540.0  3.39       3.0    0    0    1    0\n",
      "9        0  700.0  3.92       2.0    0    1    0    0\n",
      "10       0  800.0  4.00       4.0    0    0    0    1\n",
      "11       0  440.0  3.22       1.0    1    0    0    0\n",
      "12       1  760.0  4.00       1.0    1    0    0    0\n",
      "13       0  700.0  3.08       2.0    0    1    0    0\n",
      "14       1  700.0  4.00       1.0    1    0    0    0\n",
      "15       0  480.0  3.44       3.0    0    0    1    0\n",
      "16       0  780.0  3.87       4.0    0    0    0    1\n",
      "17       0  360.0  2.56       3.0    0    0    1    0\n",
      "18       0  800.0  3.75       2.0    0    1    0    0\n",
      "19       1  540.0  3.81       1.0    1    0    0    0\n",
      "20       0  500.0  3.17       3.0    0    0    1    0\n",
      "21       1  660.0  3.63       2.0    0    1    0    0\n",
      "22       0  600.0  2.82       4.0    0    0    0    1\n",
      "23       0  680.0  3.19       4.0    0    0    0    1\n",
      "24       1  760.0  3.35       2.0    0    1    0    0\n",
      "25       1  800.0  3.66       1.0    1    0    0    0\n",
      "26       1  620.0  3.61       1.0    1    0    0    0\n",
      "27       1  520.0  3.74       4.0    0    0    0    1\n",
      "28       1  780.0  3.22       2.0    0    1    0    0\n",
      "29       0  520.0  3.29       1.0    1    0    0    0\n",
      "..     ...    ...   ...       ...  ...  ...  ...  ...\n",
      "370      1  540.0  3.77       2.0    0    1    0    0\n",
      "371      1  680.0  3.76       3.0    0    0    1    0\n",
      "372      1  680.0  2.42       1.0    1    0    0    0\n",
      "373      1  620.0  3.37       1.0    1    0    0    0\n",
      "374      0  560.0  3.78       2.0    0    1    0    0\n",
      "375      0  560.0  3.49       4.0    0    0    0    1\n",
      "376      0  620.0  3.63       2.0    0    1    0    0\n",
      "377      1  800.0  4.00       2.0    0    1    0    0\n",
      "378      0  640.0  3.12       3.0    0    0    1    0\n",
      "379      0  540.0  2.70       2.0    0    1    0    0\n",
      "380      0  700.0  3.65       2.0    0    1    0    0\n",
      "381      1  540.0  3.49       2.0    0    1    0    0\n",
      "382      0  540.0  3.51       2.0    0    1    0    0\n",
      "383      0  660.0  4.00       1.0    1    0    0    0\n",
      "384      1  480.0  2.62       2.0    0    1    0    0\n",
      "385      0  420.0  3.02       1.0    1    0    0    0\n",
      "386      1  740.0  3.86       2.0    0    1    0    0\n",
      "387      0  580.0  3.36       2.0    0    1    0    0\n",
      "388      0  640.0  3.17       2.0    0    1    0    0\n",
      "389      0  640.0  3.51       2.0    0    1    0    0\n",
      "390      1  800.0  3.05       2.0    0    1    0    0\n",
      "391      1  660.0  3.88       2.0    0    1    0    0\n",
      "392      1  600.0  3.38       3.0    0    0    1    0\n",
      "393      1  620.0  3.75       2.0    0    1    0    0\n",
      "394      1  460.0  3.99       3.0    0    0    1    0\n",
      "395      0  620.0  4.00       2.0    0    1    0    0\n",
      "396      0  560.0  3.04       3.0    0    0    1    0\n",
      "397      0  460.0  2.63       2.0    0    1    0    0\n",
      "398      0  700.0  3.65       2.0    0    1    0    0\n",
      "399      0  600.0  3.89       3.0    0    0    1    0\n",
      "\n",
      "[397 rows x 8 columns]\n"
     ]
    }
   ],
   "source": [
    "df = df.join(pd.get_dummies(df['prestige']))\n",
    "print df"
   ]
  },
  {
   "cell_type": "markdown",
   "metadata": {},
   "source": [
    "#### 2.2 When modeling our class variables, how many do we need? \n",
    "\n"
   ]
  },
  {
   "cell_type": "markdown",
   "metadata": {},
   "source": [
    "Answer: 3, since there are a total of 4 options for prestige"
   ]
  },
  {
   "cell_type": "markdown",
   "metadata": {},
   "source": [
    "## Part 3. Hand calculating odds ratios\n",
    "\n",
    "Develop your intuition about expected outcomes by hand calculating odds ratios."
   ]
  },
  {
   "cell_type": "code",
   "execution_count": 5,
   "metadata": {
    "collapsed": true
   },
   "outputs": [],
   "source": [
    "#crosstab prestige 1 admission \n",
    "# frequency table cutting prestige and whether or not someone was admitted"
   ]
  },
  {
   "cell_type": "code",
   "execution_count": 6,
   "metadata": {
    "scrolled": true
   },
   "outputs": [
    {
     "data": {
      "text/plain": [
       "admit       397\n",
       "gre         397\n",
       "gpa         397\n",
       "prestige    397\n",
       "1.0         397\n",
       "2.0         397\n",
       "3.0         397\n",
       "4.0         397\n",
       "dtype: int64"
      ]
     },
     "execution_count": 6,
     "metadata": {},
     "output_type": "execute_result"
    }
   ],
   "source": [
    "df.count()"
   ]
  },
  {
   "cell_type": "code",
   "execution_count": 7,
   "metadata": {},
   "outputs": [
    {
     "data": {
      "text/plain": [
       "admit          126.00\n",
       "gre         233380.00\n",
       "gpa           1346.72\n",
       "prestige       988.00\n",
       "1.0             61.00\n",
       "2.0            148.00\n",
       "3.0            121.00\n",
       "4.0             67.00\n",
       "dtype: float64"
      ]
     },
     "execution_count": 7,
     "metadata": {},
     "output_type": "execute_result"
    }
   ],
   "source": [
    "df.sum()"
   ]
  },
  {
   "cell_type": "code",
   "execution_count": 8,
   "metadata": {
    "scrolled": true
   },
   "outputs": [
    {
     "data": {
      "text/html": [
       "<div>\n",
       "<style>\n",
       "    .dataframe thead tr:only-child th {\n",
       "        text-align: right;\n",
       "    }\n",
       "\n",
       "    .dataframe thead th {\n",
       "        text-align: left;\n",
       "    }\n",
       "\n",
       "    .dataframe tbody tr th {\n",
       "        vertical-align: top;\n",
       "    }\n",
       "</style>\n",
       "<table border=\"1\" class=\"dataframe\">\n",
       "  <thead>\n",
       "    <tr style=\"text-align: right;\">\n",
       "      <th></th>\n",
       "      <th>gre</th>\n",
       "      <th>gpa</th>\n",
       "      <th>prestige</th>\n",
       "      <th>1.0</th>\n",
       "      <th>2.0</th>\n",
       "      <th>3.0</th>\n",
       "      <th>4.0</th>\n",
       "    </tr>\n",
       "    <tr>\n",
       "      <th>admit</th>\n",
       "      <th></th>\n",
       "      <th></th>\n",
       "      <th></th>\n",
       "      <th></th>\n",
       "      <th></th>\n",
       "      <th></th>\n",
       "      <th></th>\n",
       "    </tr>\n",
       "  </thead>\n",
       "  <tbody>\n",
       "    <tr>\n",
       "      <th>0</th>\n",
       "      <td>155440.0</td>\n",
       "      <td>907.08</td>\n",
       "      <td>717.0</td>\n",
       "      <td>28</td>\n",
       "      <td>95</td>\n",
       "      <td>93</td>\n",
       "      <td>55</td>\n",
       "    </tr>\n",
       "    <tr>\n",
       "      <th>1</th>\n",
       "      <td>77940.0</td>\n",
       "      <td>439.64</td>\n",
       "      <td>271.0</td>\n",
       "      <td>33</td>\n",
       "      <td>53</td>\n",
       "      <td>28</td>\n",
       "      <td>12</td>\n",
       "    </tr>\n",
       "  </tbody>\n",
       "</table>\n",
       "</div>"
      ],
      "text/plain": [
       "            gre     gpa  prestige  1.0  2.0  3.0  4.0\n",
       "admit                                                \n",
       "0      155440.0  907.08     717.0   28   95   93   55\n",
       "1       77940.0  439.64     271.0   33   53   28   12"
      ]
     },
     "execution_count": 8,
     "metadata": {},
     "output_type": "execute_result"
    }
   ],
   "source": [
    "df.groupby('admit').sum()"
   ]
  },
  {
   "cell_type": "code",
   "execution_count": 9,
   "metadata": {
    "collapsed": true
   },
   "outputs": [],
   "source": [
    "#1: 33:28\n",
    "#2: 53:95\n",
    "#3: 28:93\n",
    "#4: 12:55"
   ]
  },
  {
   "cell_type": "markdown",
   "metadata": {},
   "source": [
    "#### 3.1 Use the cross tab above to calculate the odds of being admitted to grad school if you attended a #1 ranked college"
   ]
  },
  {
   "cell_type": "code",
   "execution_count": 10,
   "metadata": {
    "collapsed": true
   },
   "outputs": [],
   "source": [
    "#If you attended a #1 prestige college, your odds are 33 to 28"
   ]
  },
  {
   "cell_type": "markdown",
   "metadata": {},
   "source": [
    "#### 3.2 Now calculate the odds of admission if you did not attend a #1 ranked college"
   ]
  },
  {
   "cell_type": "code",
   "execution_count": 11,
   "metadata": {
    "collapsed": true
   },
   "outputs": [],
   "source": [
    "#If you attended a #1 prestige college, your odds are (53+28+12) to (95+93+55) or 93 to 243"
   ]
  },
  {
   "cell_type": "markdown",
   "metadata": {},
   "source": [
    "#### 3.3 Calculate the odds ratio"
   ]
  },
  {
   "cell_type": "code",
   "execution_count": 12,
   "metadata": {
    "collapsed": true
   },
   "outputs": [],
   "source": [
    "#1: 33:28\n",
    "#2: 53:95\n",
    "#3: 28:93\n",
    "#4: 12:55"
   ]
  },
  {
   "cell_type": "markdown",
   "metadata": {},
   "source": [
    "#### 3.4 Write this finding in a sentenance: "
   ]
  },
  {
   "cell_type": "markdown",
   "metadata": {},
   "source": [
    "#Answer: The Odds ratio descreases as one's college prestige decreases."
   ]
  },
  {
   "cell_type": "markdown",
   "metadata": {},
   "source": [
    "#### 3.5 Print the cross tab for prestige_4"
   ]
  },
  {
   "cell_type": "code",
   "execution_count": 13,
   "metadata": {},
   "outputs": [
    {
     "data": {
      "text/html": [
       "<div>\n",
       "<style>\n",
       "    .dataframe thead tr:only-child th {\n",
       "        text-align: right;\n",
       "    }\n",
       "\n",
       "    .dataframe thead th {\n",
       "        text-align: left;\n",
       "    }\n",
       "\n",
       "    .dataframe tbody tr th {\n",
       "        vertical-align: top;\n",
       "    }\n",
       "</style>\n",
       "<table border=\"1\" class=\"dataframe\">\n",
       "  <thead>\n",
       "    <tr style=\"text-align: right;\">\n",
       "      <th>4.0</th>\n",
       "      <th>0</th>\n",
       "      <th>1</th>\n",
       "    </tr>\n",
       "    <tr>\n",
       "      <th>admit</th>\n",
       "      <th></th>\n",
       "      <th></th>\n",
       "    </tr>\n",
       "  </thead>\n",
       "  <tbody>\n",
       "    <tr>\n",
       "      <th>0</th>\n",
       "      <td>216</td>\n",
       "      <td>55</td>\n",
       "    </tr>\n",
       "    <tr>\n",
       "      <th>1</th>\n",
       "      <td>114</td>\n",
       "      <td>12</td>\n",
       "    </tr>\n",
       "  </tbody>\n",
       "</table>\n",
       "</div>"
      ],
      "text/plain": [
       "4.0      0   1\n",
       "admit         \n",
       "0      216  55\n",
       "1      114  12"
      ]
     },
     "execution_count": 13,
     "metadata": {},
     "output_type": "execute_result"
    }
   ],
   "source": [
    "pd.crosstab(df['admit'], df[4.0], rownames=['admit'])"
   ]
  },
  {
   "cell_type": "markdown",
   "metadata": {},
   "source": [
    "#### 3.6 Calculate the OR "
   ]
  },
  {
   "cell_type": "code",
   "execution_count": 14,
   "metadata": {
    "collapsed": true
   },
   "outputs": [],
   "source": [
    "#What is OR, if it's pdd ratio, then it is 12 to 55."
   ]
  },
  {
   "cell_type": "markdown",
   "metadata": {},
   "source": [
    "#### 3.7 Write this finding in a sentence"
   ]
  },
  {
   "cell_type": "markdown",
   "metadata": {},
   "source": [
    "#Answer: Ignoring GPA and GMAT, the odds of getting accepted from a prestige 4 school is 12 to 55."
   ]
  },
  {
   "cell_type": "markdown",
   "metadata": {},
   "source": [
    "## Part 4. Analysis"
   ]
  },
  {
   "cell_type": "code",
   "execution_count": 15,
   "metadata": {},
   "outputs": [
    {
     "name": "stdout",
     "output_type": "stream",
     "text": [
      "   admit    gre   gpa  prestige  1.0  2.0  3.0  4.0\n",
      "0      0  380.0  3.61       3.0    0    0    1    0\n",
      "1      1  660.0  3.67       3.0    0    0    1    0\n",
      "2      1  800.0  4.00       1.0    1    0    0    0\n",
      "3      1  640.0  3.19       4.0    0    0    0    1\n",
      "4      0  520.0  2.93       4.0    0    0    0    1\n"
     ]
    }
   ],
   "source": [
    "# create a clean data frame for the regression\n",
    "df_clean = df.dropna() \n",
    "print df_clean.head()"
   ]
  },
  {
   "cell_type": "markdown",
   "metadata": {},
   "source": [
    "We're going to add a constant term for our Logistic Regression. The statsmodels function we're going to be using requires that intercepts/constants are specified explicitly."
   ]
  },
  {
   "cell_type": "code",
   "execution_count": 23,
   "metadata": {
    "collapsed": true
   },
   "outputs": [],
   "source": [
    "# manually add the intercept\n",
    "X = df_clean[['gre', 'gpa', 1.0, 2.0, 3.0]]\n",
    "X = sm.add_constant(X)\n",
    "y = df_clean['admit']"
   ]
  },
  {
   "cell_type": "markdown",
   "metadata": {},
   "source": [
    "#### 4.1 Set the covariates to a variable called train_cols"
   ]
  },
  {
   "cell_type": "code",
   "execution_count": 25,
   "metadata": {},
   "outputs": [
    {
     "name": "stdout",
     "output_type": "stream",
     "text": [
      "     const    gre   gpa  1.0  2.0  3.0\n",
      "0      1.0  380.0  3.61    0    0    1\n",
      "1      1.0  660.0  3.67    0    0    1\n",
      "2      1.0  800.0  4.00    1    0    0\n",
      "3      1.0  640.0  3.19    0    0    0\n",
      "4      1.0  520.0  2.93    0    0    0\n",
      "5      1.0  760.0  3.00    0    1    0\n",
      "6      1.0  560.0  2.98    1    0    0\n",
      "7      1.0  400.0  3.08    0    1    0\n",
      "8      1.0  540.0  3.39    0    0    1\n",
      "9      1.0  700.0  3.92    0    1    0\n",
      "10     1.0  800.0  4.00    0    0    0\n",
      "11     1.0  440.0  3.22    1    0    0\n",
      "12     1.0  760.0  4.00    1    0    0\n",
      "13     1.0  700.0  3.08    0    1    0\n",
      "14     1.0  700.0  4.00    1    0    0\n",
      "15     1.0  480.0  3.44    0    0    1\n",
      "16     1.0  780.0  3.87    0    0    0\n",
      "17     1.0  360.0  2.56    0    0    1\n",
      "18     1.0  800.0  3.75    0    1    0\n",
      "19     1.0  540.0  3.81    1    0    0\n",
      "20     1.0  500.0  3.17    0    0    1\n",
      "21     1.0  660.0  3.63    0    1    0\n",
      "22     1.0  600.0  2.82    0    0    0\n",
      "23     1.0  680.0  3.19    0    0    0\n",
      "24     1.0  760.0  3.35    0    1    0\n",
      "25     1.0  800.0  3.66    1    0    0\n",
      "26     1.0  620.0  3.61    1    0    0\n",
      "27     1.0  520.0  3.74    0    0    0\n",
      "28     1.0  780.0  3.22    0    1    0\n",
      "29     1.0  520.0  3.29    1    0    0\n",
      "..     ...    ...   ...  ...  ...  ...\n",
      "370    1.0  540.0  3.77    0    1    0\n",
      "371    1.0  680.0  3.76    0    0    1\n",
      "372    1.0  680.0  2.42    1    0    0\n",
      "373    1.0  620.0  3.37    1    0    0\n",
      "374    1.0  560.0  3.78    0    1    0\n",
      "375    1.0  560.0  3.49    0    0    0\n",
      "376    1.0  620.0  3.63    0    1    0\n",
      "377    1.0  800.0  4.00    0    1    0\n",
      "378    1.0  640.0  3.12    0    0    1\n",
      "379    1.0  540.0  2.70    0    1    0\n",
      "380    1.0  700.0  3.65    0    1    0\n",
      "381    1.0  540.0  3.49    0    1    0\n",
      "382    1.0  540.0  3.51    0    1    0\n",
      "383    1.0  660.0  4.00    1    0    0\n",
      "384    1.0  480.0  2.62    0    1    0\n",
      "385    1.0  420.0  3.02    1    0    0\n",
      "386    1.0  740.0  3.86    0    1    0\n",
      "387    1.0  580.0  3.36    0    1    0\n",
      "388    1.0  640.0  3.17    0    1    0\n",
      "389    1.0  640.0  3.51    0    1    0\n",
      "390    1.0  800.0  3.05    0    1    0\n",
      "391    1.0  660.0  3.88    0    1    0\n",
      "392    1.0  600.0  3.38    0    0    1\n",
      "393    1.0  620.0  3.75    0    1    0\n",
      "394    1.0  460.0  3.99    0    0    1\n",
      "395    1.0  620.0  4.00    0    1    0\n",
      "396    1.0  560.0  3.04    0    0    1\n",
      "397    1.0  460.0  2.63    0    1    0\n",
      "398    1.0  700.0  3.65    0    1    0\n",
      "399    1.0  600.0  3.89    0    0    1\n",
      "\n",
      "[397 rows x 6 columns]\n"
     ]
    }
   ],
   "source": [
    "train_cols = df_clean.columns[1:]\n",
    "print X"
   ]
  },
  {
   "cell_type": "markdown",
   "metadata": {},
   "source": [
    "#### 4.2 Fit the model"
   ]
  },
  {
   "cell_type": "code",
   "execution_count": 26,
   "metadata": {
    "collapsed": true
   },
   "outputs": [],
   "source": [
    "logit = sm.Logit(y, X)"
   ]
  },
  {
   "cell_type": "markdown",
   "metadata": {},
   "source": [
    "#### 4.3 Print the summary results"
   ]
  },
  {
   "cell_type": "code",
   "execution_count": 27,
   "metadata": {},
   "outputs": [
    {
     "name": "stdout",
     "output_type": "stream",
     "text": [
      "Optimization terminated successfully.\n",
      "         Current function value: 0.573854\n",
      "         Iterations 6\n",
      "                           Logit Regression Results                           \n",
      "==============================================================================\n",
      "Dep. Variable:                  admit   No. Observations:                  397\n",
      "Model:                          Logit   Df Residuals:                      391\n",
      "Method:                           MLE   Df Model:                            5\n",
      "Date:                Wed, 04 Oct 2017   Pseudo R-squ.:                 0.08166\n",
      "Time:                        18:53:51   Log-Likelihood:                -227.82\n",
      "converged:                       True   LL-Null:                       -248.08\n",
      "                                        LLR p-value:                 1.176e-07\n",
      "==============================================================================\n",
      "                 coef    std err          z      P>|z|      [0.025      0.975]\n",
      "------------------------------------------------------------------------------\n",
      "const         -5.4303      1.140     -4.764      0.000      -7.664      -3.196\n",
      "gre            0.0022      0.001      2.028      0.043    7.44e-05       0.004\n",
      "gpa            0.7793      0.333      2.344      0.019       0.128       1.431\n",
      "1.0            1.5534      0.417      3.721      0.000       0.735       2.372\n",
      "2.0            0.8733      0.367      2.378      0.017       0.153       1.593\n",
      "3.0            0.2147      0.393      0.547      0.584      -0.555       0.984\n",
      "==============================================================================\n"
     ]
    }
   ],
   "source": [
    "result = logit.fit()\n",
    "print result.summary()"
   ]
  },
  {
   "cell_type": "code",
   "execution_count": 30,
   "metadata": {},
   "outputs": [
    {
     "name": "stdout",
     "output_type": "stream",
     "text": [
      "0      0.173771\n",
      "1      0.290859\n",
      "2      0.734040\n",
      "3      0.178814\n",
      "4      0.119915\n",
      "5      0.369819\n",
      "6      0.422597\n",
      "7      0.219382\n",
      "8      0.201710\n",
      "9      0.512721\n",
      "10     0.368608\n",
      "11     0.403407\n",
      "12     0.716361\n",
      "13     0.353486\n",
      "14     0.688556\n",
      "15     0.186976\n",
      "16     0.335397\n",
      "17     0.081525\n",
      "18     0.535004\n",
      "19     0.572084\n",
      "20     0.163033\n",
      "21     0.434417\n",
      "22     0.129940\n",
      "23     0.192218\n",
      "24     0.435309\n",
      "25     0.679232\n",
      "26     0.577364\n",
      "27     0.203920\n",
      "28     0.421366\n",
      "29     0.460268\n",
      "         ...   \n",
      "370    0.396289\n",
      "371    0.315030\n",
      "372    0.381699\n",
      "373    0.531190\n",
      "374    0.408833\n",
      "375    0.187236\n",
      "376    0.412755\n",
      "377    0.582995\n",
      "378    0.203555\n",
      "379    0.221863\n",
      "380    0.460202\n",
      "381    0.345435\n",
      "382    0.348968\n",
      "383    0.669216\n",
      "384    0.189956\n",
      "385    0.356285\n",
      "386    0.523201\n",
      "387    0.342597\n",
      "388    0.339233\n",
      "389    0.400895\n",
      "390    0.400042\n",
      "391    0.482753\n",
      "392    0.222643\n",
      "393    0.435593\n",
      "394    0.252465\n",
      "395    0.483948\n",
      "396    0.167418\n",
      "397    0.184392\n",
      "398    0.460202\n",
      "399    0.298832\n",
      "Length: 397, dtype: float64\n"
     ]
    }
   ],
   "source": [
    "print result.predict(X)"
   ]
  },
  {
   "cell_type": "code",
   "execution_count": 31,
   "metadata": {},
   "outputs": [
    {
     "name": "stdout",
     "output_type": "stream",
     "text": [
      "              0         1\n",
      "const -7.664377 -3.196152\n",
      "gre    0.000074  0.004362\n",
      "gpa    0.127619  1.431056\n",
      "1.0    0.735197  2.371624\n",
      "2.0    0.153432  1.593115\n",
      "3.0   -0.554669  0.984135\n"
     ]
    }
   ],
   "source": [
    "print result.conf_int()"
   ]
  },
  {
   "cell_type": "markdown",
   "metadata": {},
   "source": [
    "#### 4.4 Calculate the odds ratios of the coeffiencents and their 95% CI intervals\n",
    "\n",
    "hint 1: np.exp(X)\n",
    "\n",
    "hint 2: conf['OR'] = params\n",
    "        \n",
    "           conf.columns = ['2.5%', '97.5%', 'OR']"
   ]
  },
  {
   "cell_type": "code",
   "execution_count": 32,
   "metadata": {},
   "outputs": [
    {
     "name": "stdout",
     "output_type": "stream",
     "text": [
      "const    0.004382\n",
      "gre      1.002221\n",
      "gpa      2.180027\n",
      "1.0      4.727566\n",
      "2.0      2.394738\n",
      "3.0      1.239531\n",
      "dtype: float64\n"
     ]
    }
   ],
   "source": [
    "print np.exp(result.params)"
   ]
  },
  {
   "cell_type": "code",
   "execution_count": 33,
   "metadata": {},
   "outputs": [
    {
     "name": "stdout",
     "output_type": "stream",
     "text": [
      "           2.5%      97.5%        OR\n",
      "const  0.000469   0.040919  0.004382\n",
      "gre    1.000074   1.004372  1.002221\n",
      "gpa    1.136120   4.183113  2.180027\n",
      "1.0    2.085893  10.714780  4.727566\n",
      "2.0    1.165829   4.919050  2.394738\n",
      "3.0    0.574262   2.675498  1.239531\n"
     ]
    }
   ],
   "source": [
    "params = result.params\n",
    "conf = result.conf_int()\n",
    "conf['OR'] = params\n",
    "conf.columns = ['2.5%', '97.5%', 'OR']\n",
    "print np.exp(conf)"
   ]
  },
  {
   "cell_type": "markdown",
   "metadata": {},
   "source": [
    "#### 4.5 Interpret the OR of Prestige_2"
   ]
  },
  {
   "cell_type": "markdown",
   "metadata": {},
   "source": [
    "#### Answer:The OR of Prestige_2 is 2.394738. The shows an increase of 2.39x of admit for presitge 2 vs. prestiage 4."
   ]
  },
  {
   "cell_type": "markdown",
   "metadata": {},
   "source": [
    "#### 4.6 Interpret the OR of GPA"
   ]
  },
  {
   "cell_type": "markdown",
   "metadata": {},
   "source": [
    "Answer: The OR of GPA is 2.180027. This OR tells you a unit increase in GPA will have an increase of 200% of admit."
   ]
  },
  {
   "cell_type": "markdown",
   "metadata": {},
   "source": [
    "## Part 5: Predicted probablities\n"
   ]
  },
  {
   "cell_type": "markdown",
   "metadata": {},
   "source": [
    "As a way of evaluating our classifier, we're going to recreate the dataset with every logical combination of input values. This will allow us to see how the predicted probability of admission increases/decreases across different variables. First we're going to generate the combinations using a helper function called cartesian (above).\n",
    "\n",
    "We're going to use np.linspace to create a range of values for \"gre\" and \"gpa\". This creates a range of linearly spaced values from a specified min and maximum value--in our case just the min/max observed values."
   ]
  },
  {
   "cell_type": "code",
   "execution_count": 34,
   "metadata": {
    "collapsed": true
   },
   "outputs": [],
   "source": [
    "def cartesian(arrays, out=None):\n",
    "    \"\"\"\n",
    "    Generate a cartesian product of input arrays.\n",
    "    Parameters\n",
    "    ----------\n",
    "    arrays : list of array-like\n",
    "        1-D arrays to form the cartesian product of.\n",
    "    out : ndarray\n",
    "        Array to place the cartesian product in.\n",
    "    Returns\n",
    "    -------\n",
    "    out : ndarray\n",
    "        2-D array of shape (M, len(arrays)) containing cartesian products\n",
    "        formed of input arrays.\n",
    "    Examples\n",
    "    --------\n",
    "    >>> cartesian(([1, 2, 3], [4, 5], [6, 7]))\n",
    "    array([[1, 4, 6],\n",
    "           [1, 4, 7],\n",
    "           [1, 5, 6],\n",
    "           [1, 5, 7],\n",
    "           [2, 4, 6],\n",
    "           [2, 4, 7],\n",
    "           [2, 5, 6],\n",
    "           [2, 5, 7],\n",
    "           [3, 4, 6],\n",
    "           [3, 4, 7],\n",
    "           [3, 5, 6],\n",
    "           [3, 5, 7]])\n",
    "    \"\"\"\n",
    "\n",
    "    arrays = [np.asarray(x) for x in arrays]\n",
    "    dtype = arrays[0].dtype\n",
    "\n",
    "    n = np.prod([x.size for x in arrays])\n",
    "    if out is None:\n",
    "        out = np.zeros([n, len(arrays)], dtype=dtype)\n",
    "\n",
    "    m = n / arrays[0].size\n",
    "    out[:,0] = np.repeat(arrays[0], m)\n",
    "    if arrays[1:]:\n",
    "        cartesian(arrays[1:], out=out[0:m,1:])\n",
    "        for j in xrange(1, arrays[0].size):\n",
    "            out[j*m:(j+1)*m,1:] = out[0:m,1:]\n",
    "    return out"
   ]
  },
  {
   "cell_type": "code",
   "execution_count": 35,
   "metadata": {},
   "outputs": [
    {
     "name": "stdout",
     "output_type": "stream",
     "text": [
      "[ 220.          284.44444444  348.88888889  413.33333333  477.77777778\n",
      "  542.22222222  606.66666667  671.11111111  735.55555556  800.        ]\n",
      "[ 2.26        2.45333333  2.64666667  2.84        3.03333333  3.22666667\n",
      "  3.42        3.61333333  3.80666667  4.        ]\n"
     ]
    }
   ],
   "source": [
    "# instead of generating all possible values of GRE and GPA, we're going\n",
    "# to use an evenly spaced range of 10 values from the min to the max \n",
    "gres = np.linspace(df_clean['gre'].min(), df_clean['gre'].max(), 10)\n",
    "print gres\n",
    "# array([ 220.        ,  284.44444444,  348.88888889,  413.33333333,\n",
    "#         477.77777778,  542.22222222,  606.66666667,  671.11111111,\n",
    "#         735.55555556,  800.        ])\n",
    "gpas = np.linspace(df_clean['gpa'].min(), df_clean['gpa'].max(), 10)\n",
    "print gpas\n",
    "# array([ 2.26      ,  2.45333333,  2.64666667,  2.84      ,  3.03333333,\n",
    "#         3.22666667,  3.42      ,  3.61333333,  3.80666667,  4.        ])\n",
    "\n",
    "\n",
    "# enumerate all possibilities\n",
    "combos = pd.DataFrame(cartesian([gres, gpas, [1.0, 2.0, 3.0, 4.0], [1.]]))"
   ]
  },
  {
   "cell_type": "markdown",
   "metadata": {},
   "source": [
    "#### 5.1 Recreate the dummy variables"
   ]
  },
  {
   "cell_type": "code",
   "execution_count": 36,
   "metadata": {},
   "outputs": [
    {
     "name": "stderr",
     "output_type": "stream",
     "text": [
      "C:\\Users\\elizabeth.xu\\AppData\\Local\\Continuum\\Anaconda2\\lib\\site-packages\\ipykernel_launcher.py:8: DeprecationWarning: \n",
      ".ix is deprecated. Please use\n",
      ".loc for label based indexing or\n",
      ".iloc for positional indexing\n",
      "\n",
      "See the documentation here:\n",
      "http://pandas.pydata.org/pandas-docs/stable/indexing.html#ix-indexer-is-deprecated\n",
      "  \n"
     ]
    }
   ],
   "source": [
    "# recreate the dummy variables\n",
    "combos.columns = ['gre', 'gpa', 'prestige', 'intercept']\n",
    "dummy_ranks = pd.get_dummies(combos['prestige'], prefix='prestige')\n",
    "dummy_ranks.columns = ['prestige_1', 'prestige_2', 'prestige_3', 'prestige_4']\n",
    "\n",
    "# keep only what we need for making predictions\n",
    "cols_to_keep = ['gre', 'gpa', 'prestige', 'intercept']\n",
    "combos = combos[cols_to_keep].join(dummy_ranks.ix[:, 'prestige_2':])\n"
   ]
  },
  {
   "cell_type": "markdown",
   "metadata": {},
   "source": [
    "#### 5.2 Make predictions on the enumerated dataset"
   ]
  },
  {
   "cell_type": "code",
   "execution_count": 38,
   "metadata": {
    "scrolled": true
   },
   "outputs": [],
   "source": [
    "combos['admit_pred'] = result.predict(X)"
   ]
  },
  {
   "cell_type": "code",
   "execution_count": 42,
   "metadata": {},
   "outputs": [
    {
     "name": "stdout",
     "output_type": "stream",
     "text": [
      "       gre       gpa  prestige  intercept  prestige_2  prestige_3  prestige_4  \\\n",
      "395  800.0  3.806667       4.0        1.0           0           0           1   \n",
      "396  800.0  4.000000       1.0        1.0           0           0           0   \n",
      "397  800.0  4.000000       2.0        1.0           1           0           0   \n",
      "398  800.0  4.000000       3.0        1.0           0           1           0   \n",
      "399  800.0  4.000000       4.0        1.0           0           0           1   \n",
      "\n",
      "     admit_pred  \n",
      "395    0.483948  \n",
      "396    0.167418  \n",
      "397    0.184392  \n",
      "398    0.460202  \n",
      "399    0.298832  \n"
     ]
    }
   ],
   "source": [
    "print combos.tail()"
   ]
  },
  {
   "cell_type": "markdown",
   "metadata": {},
   "source": [
    "#### 5.3 Interpret findings for the last 4 observations"
   ]
  },
  {
   "cell_type": "code",
   "execution_count": 43,
   "metadata": {
    "collapsed": true
   },
   "outputs": [],
   "source": [
    "#Answer: The number indicates the probability of the indiviudal being admitted.\n"
   ]
  },
  {
   "cell_type": "code",
   "execution_count": 44,
   "metadata": {},
   "outputs": [
    {
     "ename": "SyntaxError",
     "evalue": "invalid syntax (<ipython-input-44-b26a8f58e3d8>, line 3)",
     "output_type": "error",
     "traceback": [
      "\u001b[1;36m  File \u001b[1;32m\"<ipython-input-44-b26a8f58e3d8>\"\u001b[1;36m, line \u001b[1;32m3\u001b[0m\n\u001b[1;33m    Plot the probability of being admitted into graduate school, stratified by GPA and GRE score.\u001b[0m\n\u001b[1;37m           ^\u001b[0m\n\u001b[1;31mSyntaxError\u001b[0m\u001b[1;31m:\u001b[0m invalid syntax\n"
     ]
    }
   ],
   "source": [
    "## Bonus\n",
    "\n",
    "Plot the probability of being admitted into graduate school, stratified by GPA and GRE score."
   ]
  },
  {
   "cell_type": "code",
   "execution_count": null,
   "metadata": {
    "collapsed": true
   },
   "outputs": [],
   "source": []
  },
  {
   "cell_type": "code",
   "execution_count": null,
   "metadata": {
    "collapsed": true
   },
   "outputs": [],
   "source": []
  },
  {
   "cell_type": "code",
   "execution_count": null,
   "metadata": {
    "collapsed": true
   },
   "outputs": [],
   "source": []
  }
 ],
 "metadata": {
  "kernelspec": {
   "display_name": "Python 2",
   "language": "python",
   "name": "python2"
  },
  "language_info": {
   "codemirror_mode": {
    "name": "ipython",
    "version": 2
   },
   "file_extension": ".py",
   "mimetype": "text/x-python",
   "name": "python",
   "nbconvert_exporter": "python",
   "pygments_lexer": "ipython2",
   "version": "2.7.13"
  }
 },
 "nbformat": 4,
 "nbformat_minor": 1
}
